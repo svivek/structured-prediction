{
 "cells": [
  {
   "cell_type": "markdown",
   "metadata": {
    "deletable": true,
    "editable": true
   },
   "source": [
    "# Decoding a substitution cipher using Markov Chain Monte Carlo \n",
    "\n",
    "Suppose we are presented with some text that is encoded. Suppose we knew, for some reason, that the text is coded using a substitution cipher. For example, if the text at hand is `WAR AND PEACE`, and every character was mapped to the next character in the alphabet, with `Z` mapping to the space and spaces mapping back to `A`, then we get the cipher text `YBSABOEAQFBDF`.\n",
    "\n",
    "Our goal is to decode such cipher text. In other words, given text that is encoded with a substitution cipher, we wish to identify the key that was used to encode the plain text, and apply the inverse of the key to decode the input. \n",
    "\n",
    "## Solution strategy\n",
    "\n",
    "The solution strategy follows the usual idea for breaking substitution ciphers. If we have a probability function that assigns probabilities to English sentences based on character transitions, then we can frame the problem of identifying the key as searching over all keys to find the one whose decoded string has the highest probability of being English.\n",
    "\n",
    "First, we need to build a function that can assign probabilities to any English sentence. We will use a first order or a second order Markov model to assign this probability. That is, using a first order Markov model, we will estimate the probability of `SLEEP` as $Pr(SLEEP) = Pr(S) Pr(L | S) Pr(E | L) Pr( E | E) Pr(P |E)$. Now, all we need to do is to construct these transition probabilities from a large corpus.\n",
    "\n",
    "Once we have this, we will use a Markov Chain Monte Carlo (MCMC) method, specifically the Metropolis Hastings algorithm to search over the discrete space of all substitutions (i.e. the keys) to find the most probable one. This solution strategy is described in the introduction to Persi Diaconis' 2009 paper *The Markov Chain Monte Carlo revolution*.\n",
    "\n",
    "\n",
    "## Initial setup\n",
    "\n",
    "First, let us start with some boiler plate. We will restrict ourselves to the uppercase letters and numbers and read *War and Peace* to build transition probabilities. "
   ]
  },
  {
   "cell_type": "code",
   "execution_count": null,
   "metadata": {
    "collapsed": true,
    "deletable": true,
    "editable": true
   },
   "outputs": [],
   "source": []
  },
  {
   "cell_type": "code",
   "execution_count": null,
   "metadata": {
    "collapsed": true,
    "deletable": true,
    "editable": true
   },
   "outputs": [],
   "source": []
  },
  {
   "cell_type": "code",
   "execution_count": 1,
   "metadata": {
    "collapsed": false,
    "deletable": true,
    "editable": true,
    "scrolled": false
   },
   "outputs": [
    {
     "name": "stdout",
     "output_type": "stream",
     "text": [
      "Checking https://repo1.maven.org/maven2/org/webjars/bower/vega/maven-metadata.xml.sha1\n",
      "Checking https://repo1.maven.org/maven2/org/webjars/bower/vega/maven-metadata.xml\n",
      "Checked https://repo1.maven.org/maven2/org/webjars/bower/vega/maven-metadata.xml.sha1\n",
      "Checked https://repo1.maven.org/maven2/org/webjars/bower/vega/maven-metadata.xml\n"
     ]
    },
    {
     "data": {
      "text/plain": [
       "\u001b[32mimport \u001b[39m\u001b[36mscala.util.Random\n",
       "\u001b[39m\n",
       "\u001b[32mimport \u001b[39m\u001b[36mscala.io.Source\n",
       "\u001b[39m\n",
       "\u001b[32mimport \u001b[39m\u001b[36m$ivy.$                           \n",
       "\u001b[39m\n",
       "\u001b[32mimport \u001b[39m\u001b[36mvegas._\n",
       "\n",
       "\u001b[39m\n",
       "\u001b[36mbook\u001b[39m: \u001b[32mString\u001b[39m = \u001b[32m\"data/war-and-peace.txt\"\u001b[39m\n",
       "\u001b[36mepsilon\u001b[39m: \u001b[32mDouble\u001b[39m = \u001b[32m1.0E-9\u001b[39m\n",
       "\u001b[36mrandom\u001b[39m: \u001b[32mutil\u001b[39m.\u001b[32mRandom\u001b[39m = scala.util.Random@55d2cf6f\n",
       "\u001b[36malphabet\u001b[39m: \u001b[32mString\u001b[39m = \u001b[32m\"ABCDEFGHIJKLMNOPQRSTUVWXYZ0123456789 \"\u001b[39m"
      ]
     },
     "execution_count": 1,
     "metadata": {},
     "output_type": "execute_result"
    }
   ],
   "source": [
    "import scala.util.Random\n",
    "import scala.io.Source\n",
    "import $ivy.`org.vegas-viz::vegas:0.3.8`\n",
    "import vegas._\n",
    "\n",
    "val book = \"data/war-and-peace.txt\"\n",
    "val epsilon = 1E-9\n",
    "\n",
    "val random = new Random\n",
    "val alphabet = \"ABCDEFGHIJKLMNOPQRSTUVWXYZ0123456789 \"\n",
    "  "
   ]
  },
  {
   "cell_type": "code",
   "execution_count": null,
   "metadata": {
    "collapsed": true,
    "deletable": true,
    "editable": true
   },
   "outputs": [],
   "source": []
  },
  {
   "cell_type": "markdown",
   "metadata": {
    "deletable": true,
    "editable": true
   },
   "source": [
    "## Building the bigram probability table\n",
    "\n",
    "Next, let us build up the probability table of character bigrams for the English language using *War and Peace*. To do this, we will read all the data and count the character unigrams and bigrams that are attested in the text. We can define the bigram probabilities by smoothing ratios of the counts."
   ]
  },
  {
   "cell_type": "code",
   "execution_count": 2,
   "metadata": {
    "collapsed": false,
    "deletable": true,
    "editable": true
   },
   "outputs": [
    {
     "data": {
      "text/plain": [
       "defined \u001b[32mfunction\u001b[39m \u001b[36mcount\u001b[39m\n",
       "defined \u001b[32mfunction\u001b[39m \u001b[36msmooth\u001b[39m\n",
       "\u001b[36mtransitions\u001b[39m: \u001b[32mMap\u001b[39m[\u001b[32mString\u001b[39m, \u001b[32mDouble\u001b[39m] = \u001b[32m<lazy>\u001b[39m"
      ]
     },
     "execution_count": 2,
     "metadata": {},
     "output_type": "execute_result"
    }
   ],
   "source": [
    "def count[T](items: Iterator[T]): Map[T, Int] = {\n",
    "    val map = collection.mutable.Map[T, Int]()\n",
    "    items.foreach { c =>\n",
    "      if(map.contains(c)) map(c) = map(c) + 1\n",
    "      else map(c) = 1\n",
    "    }\n",
    "    map.toMap\n",
    "}\n",
    "\n",
    "def smooth(numerator: Int, denominator: Int, numOptions: Int, smoothingFactor: Double): Double = {\n",
    "    (numerator + smoothingFactor) / (denominator + numOptions * smoothingFactor)\n",
    "}\n",
    "\n",
    "\n",
    "lazy val transitions = {\n",
    "    val bookText = Source.fromFile(book).getLines().\n",
    "                    mkString (\" \").map(_.toUpper).replaceAll(\"[^A-Z0-9 ]\", \" \").replaceAll(\"\\\\s+\", \" \")\n",
    "\n",
    "    val alphabetSize = alphabet.size\n",
    "    \n",
    "    val alphaCounts = count(bookText.toIterator)\n",
    "\n",
    "    val pairCounts = count(bookText.sliding(2))\n",
    "\n",
    "    val bigramProbabilities = for (prev <- alphabet; current <- alphabet) yield {\n",
    "        val bigram = s\"$prev$current\"\n",
    "        val bigramCount = pairCounts.getOrElse(bigram, 0)\n",
    "        val prevCount = alphaCounts.getOrElse(prev, 0)\n",
    "        bigram -> smooth(bigramCount, prevCount, alphabetSize, epsilon)\n",
    "    }\n",
    "\n",
    "  bigramProbabilities.toMap\n",
    "}\n"
   ]
  },
  {
   "cell_type": "markdown",
   "metadata": {
    "deletable": true,
    "editable": true
   },
   "source": [
    "Using the transition table, we can define the log probability of some text as the sum of log probabilities of all the bigrams it contains."
   ]
  },
  {
   "cell_type": "code",
   "execution_count": 3,
   "metadata": {
    "collapsed": false,
    "deletable": true,
    "editable": true
   },
   "outputs": [
    {
     "data": {
      "text/plain": [
       "defined \u001b[32mfunction\u001b[39m \u001b[36mlogProbability\u001b[39m\n",
       "\u001b[36mres2_1\u001b[39m: \u001b[32mDouble\u001b[39m = \u001b[32m-28.472157174217898\u001b[39m"
      ]
     },
     "execution_count": 3,
     "metadata": {},
     "output_type": "execute_result"
    }
   ],
   "source": [
    "def logProbability(text: String) =\n",
    "  text.sliding(2).map(pair => math.log(transitions(pair.toString))).sum\n",
    "\n",
    "logProbability(\"QZ\")"
   ]
  },
  {
   "cell_type": "markdown",
   "metadata": {
    "deletable": true,
    "editable": true
   },
   "source": [
    "## Encoding and decoding sentences\n",
    "\n",
    "Let us build up a basic substitution cipher here. The key used to encode text is simply a map from characters to characters. The process of encoding is simply mapping each character in the text to another."
   ]
  },
  {
   "cell_type": "code",
   "execution_count": 4,
   "metadata": {
    "collapsed": false,
    "deletable": true,
    "editable": true
   },
   "outputs": [
    {
     "data": {
      "text/plain": [
       "defined \u001b[32mfunction\u001b[39m \u001b[36mencode\u001b[39m"
      ]
     },
     "execution_count": 4,
     "metadata": {},
     "output_type": "execute_result"
    }
   ],
   "source": [
    "def encode(text: String, key: Char => Char) = text map key"
   ]
  },
  {
   "cell_type": "markdown",
   "metadata": {
    "deletable": true,
    "editable": true
   },
   "source": [
    "To decode cipher text, we will have to invert the key and apply it to the cipher text. "
   ]
  },
  {
   "cell_type": "code",
   "execution_count": 5,
   "metadata": {
    "collapsed": false,
    "deletable": true,
    "editable": true
   },
   "outputs": [
    {
     "data": {
      "text/plain": [
       "defined \u001b[32mfunction\u001b[39m \u001b[36mdecode\u001b[39m"
      ]
     },
     "execution_count": 5,
     "metadata": {},
     "output_type": "execute_result"
    }
   ],
   "source": [
    "def decode(text: String, key: Char => Char) = {\n",
    "    val inverse = alphabet.map(char => key(char) -> char).toMap\n",
    "    encode(text, inverse)\n",
    "}"
   ]
  },
  {
   "cell_type": "markdown",
   "metadata": {
    "deletable": true,
    "editable": true
   },
   "source": [
    "Let us see if this works. We will first generate a random key by mapping the alphabet to a random version of itself. Using this, if we encode text and decode text, we should get back the original text."
   ]
  },
  {
   "cell_type": "code",
   "execution_count": 6,
   "metadata": {
    "collapsed": false,
    "deletable": true,
    "editable": true
   },
   "outputs": [
    {
     "data": {
      "text/html": [
       "<b>Plain text</b> MARY HAD A LITTLE LAMB"
      ]
     },
     "metadata": {},
     "output_type": "display_data"
    },
    {
     "data": {
      "text/html": [
       "<b>Cipher text</b> 23JIS03AS3S61PP67S632E"
      ]
     },
     "metadata": {},
     "output_type": "display_data"
    },
    {
     "data": {
      "text/html": [
       "<b>Decoded text</b> MARY HAD A LITTLE LAMB"
      ]
     },
     "metadata": {},
     "output_type": "display_data"
    },
    {
     "data": {
      "text/plain": [
       "defined \u001b[32mfunction\u001b[39m \u001b[36mrandomKey\u001b[39m\n",
       "defined \u001b[32mfunction\u001b[39m \u001b[36mtestDecoder\u001b[39m"
      ]
     },
     "execution_count": 6,
     "metadata": {},
     "output_type": "execute_result"
    }
   ],
   "source": [
    "def randomKey: Map[Char, Char] = {\n",
    "    val shuffled = random.shuffle((0 until alphabet.size).toList)\n",
    "    alphabet.zip (shuffled map alphabet).toMap\n",
    "}\n",
    "\n",
    "def testDecoder(plainText: String) = {\n",
    "    val key = randomKey\n",
    "    val coded = encode(plainText, key)\n",
    "    val decoded = decode(coded, key)\n",
    "    publish.html(s\"<b>Plain text</b> $plainText\")\n",
    "    publish.html(s\"<b>Cipher text</b> $coded\")\n",
    "    publish.html(s\"<b>Decoded text</b> $decoded\")\n",
    "\n",
    "}\n",
    "\n",
    "testDecoder(\"MARY HAD A LITTLE LAMB\")"
   ]
  },
  {
   "cell_type": "markdown",
   "metadata": {
    "deletable": true,
    "editable": true
   },
   "source": [
    "## Deciphering codes\n",
    "\n",
    "Finally, we have all the pieces needed for implementing the MCMC decoder. The state space we are navigating is that of keys. We need a way to propose a new key given a current one. To simplify things, we can do so by randomly transposing two elements of the key. For example, if a key has the mapping `A -> B` and `C -> D`, we could transpose them to get a key that maps `A -> D` and `C -> B`."
   ]
  },
  {
   "cell_type": "code",
   "execution_count": 7,
   "metadata": {
    "collapsed": false,
    "deletable": true,
    "editable": true
   },
   "outputs": [
    {
     "data": {
      "text/plain": [
       "defined \u001b[32mfunction\u001b[39m \u001b[36mtranspose\u001b[39m"
      ]
     },
     "execution_count": 7,
     "metadata": {},
     "output_type": "execute_result"
    }
   ],
   "source": [
    "  def transpose(key: Map[Char, Char])  = {\n",
    "    val i = key.keys.toList(random.nextInt(key.size))\n",
    "    val j = key.keys.toList(random.nextInt(key.size))\n",
    "\n",
    "    key map {\n",
    "      pair =>\n",
    "        val k = pair._1\n",
    "        val v = pair._2\n",
    "        if(k == i) k -> key(j)\n",
    "        else if(k ==j) k -> key(i)\n",
    "        else pair\n",
    "    }\n",
    "  }\n"
   ]
  },
  {
   "cell_type": "markdown",
   "metadata": {
    "deletable": true,
    "editable": true
   },
   "source": [
    "Now the decoder itself. The basic approach is to perform the following steps for multiple iterations:\n",
    "1. Use the current key to decode the cipher text and compute the log probability of the decoded text.\n",
    "2. Propose a change to the key using the transpose function above and compute the log probability of the decoded text that uses the changed key.\n",
    "3. If the proposed key has a better score than the current one, move to the proposed key. Otherwise, toss a coin whose bias is the ratio of the changed probability to the current one. If this coin says heads, then move to the proposed key. Otherwise, the key does not change.\n",
    "\n",
    "Along the way, there is bookkeeping that tracks the log probabilities and prints the decoded text along the way."
   ]
  },
  {
   "cell_type": "code",
   "execution_count": 8,
   "metadata": {
    "collapsed": false,
    "deletable": true,
    "editable": true,
    "scrolled": true
   },
   "outputs": [
    {
     "data": {
      "text/plain": [
       "defined \u001b[32mfunction\u001b[39m \u001b[36mdecrypt\u001b[39m"
      ]
     },
     "execution_count": 8,
     "metadata": {},
     "output_type": "execute_result"
    }
   ],
   "source": [
    "def decrypt(cipherText: String, iters: Int) = {\n",
    "    val scoringFunction = logProbability _\n",
    "\n",
    "    var currentKey = randomKey\n",
    "    \n",
    "    var last = cipherText\n",
    "    \n",
    "    val scores = new collection.mutable.ListBuffer[Map[String, Double]]\n",
    "\n",
    "    for(iter <- 0 to iters) {\n",
    "        val decoded = decode(cipherText, currentKey)\n",
    "        val score = scoringFunction(decoded)\n",
    "        \n",
    "        val changedKey = transpose(currentKey)\n",
    "        val changedScore = scoringFunction(decode(cipherText, changedKey))\n",
    "\n",
    "        if(changedScore > score) {\n",
    "          currentKey = changedKey\n",
    "        } else {\n",
    "          val bias = changedScore - score\n",
    "          if(math.log(random.nextDouble()) < bias) {\n",
    "            currentKey = changedKey\n",
    "          }\n",
    "        }\n",
    "        \n",
    "        // book keeping for plotting and logging\n",
    "        scores.append(Map(\"Iteration\" -> iter, \"Log probability\" -> score))\n",
    "        if((iter < 10000 && iter % (iters / 10).toInt == 0) || iter % 10000==0) {\n",
    "            val diff = last.zip(decoded).count(p => p._1 != p._2)\n",
    "            last = decoded\n",
    "            publish.html(s\"<li>[$iter: $diff differences] <code>$decoded</code></li>\")\n",
    "        }\n",
    "        \n",
    "    \n",
    "    }\n",
    "    \n",
    "    // let us also plot the log probabilities over time\n",
    "    Vegas().withData(scores).\n",
    "        encodeX(\"Iteration\", Quant).\n",
    "        encodeY(\"Log probability\", Quant).\n",
    "        mark(Line).show\n",
    "}"
   ]
  },
  {
   "cell_type": "markdown",
   "metadata": {
    "deletable": true,
    "editable": true
   },
   "source": [
    "## Putting it all together\n",
    "\n",
    "Let us put it all together. We need some text to encode and decode. Let us read the text from some file in the file system."
   ]
  },
  {
   "cell_type": "code",
   "execution_count": 9,
   "metadata": {
    "collapsed": false,
    "deletable": true,
    "editable": true
   },
   "outputs": [
    {
     "data": {
      "text/plain": [
       "defined \u001b[32mfunction\u001b[39m \u001b[36mtext\u001b[39m"
      ]
     },
     "execution_count": 9,
     "metadata": {},
     "output_type": "execute_result"
    }
   ],
   "source": [
    "def text(textfile: String) = Source.fromFile(textfile).getLines().\n",
    "                    mkString(\" \").toUpperCase.replaceAll(\"[^A-Z0-9 ]\", \" \").replaceAll(\"\\\\s+\", \" \")"
   ]
  },
  {
   "cell_type": "markdown",
   "metadata": {
    "deletable": true,
    "editable": true
   },
   "source": [
    "Next, we will need a key that will encode the text. Let us generate it randomly and encode the text. "
   ]
  },
  {
   "cell_type": "code",
   "execution_count": 10,
   "metadata": {
    "collapsed": false,
    "deletable": true,
    "editable": true
   },
   "outputs": [
    {
     "data": {
      "text/plain": [
       "\u001b[36mkey\u001b[39m: \u001b[32mMap\u001b[39m[\u001b[32mChar\u001b[39m, \u001b[32mChar\u001b[39m] = \u001b[33mMap\u001b[39m(\n",
       "  \u001b[32m'E'\u001b[39m -> \u001b[32m'B'\u001b[39m,\n",
       "  \u001b[32m'X'\u001b[39m -> \u001b[32m'S'\u001b[39m,\n",
       "  \u001b[32m'8'\u001b[39m -> \u001b[32m'Z'\u001b[39m,\n",
       "  \u001b[32m'4'\u001b[39m -> \u001b[32m'6'\u001b[39m,\n",
       "  \u001b[32m'9'\u001b[39m -> \u001b[32m'U'\u001b[39m,\n",
       "  \u001b[32m'N'\u001b[39m -> \u001b[32m'K'\u001b[39m,\n",
       "  \u001b[32m'T'\u001b[39m -> \u001b[32m'3'\u001b[39m,\n",
       "  \u001b[32m'Y'\u001b[39m -> \u001b[32m'F'\u001b[39m,\n",
       "  \u001b[32m'J'\u001b[39m -> \u001b[32m'4'\u001b[39m,\n",
       "  \u001b[32m'U'\u001b[39m -> \u001b[32m'P'\u001b[39m,\n",
       "  \u001b[32m'F'\u001b[39m -> \u001b[32m'I'\u001b[39m,\n",
       "\u001b[33m...\u001b[39m"
      ]
     },
     "execution_count": 10,
     "metadata": {},
     "output_type": "execute_result"
    }
   ],
   "source": [
    "val key = randomKey"
   ]
  },
  {
   "cell_type": "code",
   "execution_count": 11,
   "metadata": {
    "collapsed": false,
    "deletable": true,
    "editable": true,
    "scrolled": true
   },
   "outputs": [
    {
     "data": {
      "text/plain": [
       "defined \u001b[32mfunction\u001b[39m \u001b[36mencodedText\u001b[39m\n",
       "\u001b[36mcipherText\u001b[39m: \u001b[32mString\u001b[39m = \u001b[32m\"HKCQ3V3HQ3HTQCVKOCHKCQ3V3HQ3HTV9C1NFQHTQC3NBCAB3YJ1J9HQCNVQ3HK5QCV95JYH3NACHQCVCAVYLJDCTNVHKCAJK3BCTVY9JCATATCAB3NJOCIJYCJ83VHKHK5CVCQB2PBKTBCJICYVKOJACQVA19BQCIYJACVC1YJ8V8H9H3FCOHQ3YH8P3HJKCIJYCWNHTNCOHYBT3CQVA19HK5CHQCOHIIHTP93C3NHQCQB2PBKTBCTVKC8BCPQBOC3JCV11YJSHAV3BC3NBCOHQ3YH8P3HJKCBC5C3JC5BKBYV3BCVCNHQ3J5YVACJYC3JCTJA1P3BCVKCHK3B5YV9CQPTNCVQCVKCBS1BT3BOCDV9PBCAB3YJ1J9HQCNVQ3HK5QCVKOCJ3NBYCATATCV95JYH3NAQCVYBC5BKBYV99FCPQBOCIJYCQVA19HK5CIYJACAP93HCOHABKQHJKV9COHQ3YH8P3HJKQCBQ1BTHV99FCWNBKC3NBCKPA8BYCJICOHABKQHJKQCHQCNH5NCIJYCQHK59BCOHABKQHJKV9COHQ3YH8P3HJKQCJ3NBYCAB3NJOQCVYBCPQPV99FCVDVH9V89BCBC5CVOV13HDBCYB4BT3HJKCQVA19HK5C3NV3CTVKCOHYBT39FCYB3PYKCHKOB1BKOBK3CQVA19BQCIYJAC3NBCOHQ3YH8P3HJKCVKOCVYBCIYBBCIYJAC3NBC1YJ89BACJICVP3JTJYYB9V3BOCQVA19BQC3NV3CHQCHKNBYBK3CHKCATATCAB3NJOQC\"\u001b[39m"
      ]
     },
     "execution_count": 11,
     "metadata": {},
     "output_type": "execute_result"
    }
   ],
   "source": [
    "def encodedText(file: String) = encode(text(file), key)\n",
    "val cipherText = encodedText(\"data/2.txt\")"
   ]
  },
  {
   "cell_type": "markdown",
   "metadata": {
    "deletable": true,
    "editable": true
   },
   "source": [
    "Finally, let us see if the our MCMC based method can decipher the original text."
   ]
  },
  {
   "cell_type": "code",
   "execution_count": null,
   "metadata": {
    "collapsed": false,
    "deletable": true,
    "editable": true,
    "scrolled": false
   },
   "outputs": [
    {
     "data": {
      "text/html": [
       "<li>[0: 748 differences] <code>CKPVHTHCVHC7VPTK6PCKPVHTHCVHC7TBPW3ZVC7VPH35PD5HJLWLBCVP3TVHCK8VPTB8LJCH3DPCVPTPDTJULGP73TCKPDLKH5P7TJBLPD7D7PD5H3L6P1LJPLAHTCKCK8PTPV5IQ5K75PL1PJTK6LDPVTDWB5VP1JLDPTPWJLATACBCHZP6CVHJCAQHCLKP1LJPN3C73P6CJ57HPVTDWBCK8PCVP6C11C7QBHPH3CVPV5IQ5K75P7TKPA5PQV56PHLPTWWJLECDTH5PH35P6CVHJCAQHCLKP5P8PHLP85K5JTH5PTP3CVHL8JTDPLJPHLP7LDWQH5PTKPCKH58JTBPVQ73PTVPTKP5EW57H56PGTBQ5PD5HJLWLBCVP3TVHCK8VPTK6PLH35JPD7D7PTB8LJCH3DVPTJ5P85K5JTBBZPQV56P1LJPVTDWBCK8P1JLDPDQBHCP6CD5KVCLKTBP6CVHJCAQHCLKVP5VW57CTBBZPN35KPH35PKQDA5JPL1P6CD5KVCLKVPCVP3C83P1LJPVCK8B5P6CD5KVCLKTBP6CVHJCAQHCLKVPLH35JPD5H3L6VPTJ5PQVQTBBZPTGTCBTAB5P5P8PT6TWHCG5PJ5257HCLKPVTDWBCK8PH3THP7TKP6CJ57HBZPJ5HQJKPCK65W5K65KHPVTDWB5VP1JLDPH35P6CVHJCAQHCLKPTK6PTJ5P1J55P1JLDPH35PWJLAB5DPL1PTQHL7LJJ5BTH56PVTDWB5VPH3THPCVPCK35J5KHPCKPD7D7PD5H3L6VP</code></li>"
      ]
     },
     "metadata": {},
     "output_type": "display_data"
    },
    {
     "data": {
      "text/html": [
       "<li>[1000: 794 differences] <code>OUENT TONTOMNE UPEOUENT TONTOM HECYKNOMNETYIESITLRCRHONEY NTOUDNE HDRLOTYSEONE ES LQRZEMY OUESRUTIEM LHRESMSMESITYRPEFRLERWT OUOUDE ENIVAIUMIERFEL UPRSEN SCHINEFLRSE ECLRW WOHOTKEPONTLOWATORUEFRLEXYOMYEPOLIMTEN SCHOUDEONEPOFFOMAHTETYONENIVAIUMIEM UEWIEANIPETRE CCLRBOS TIETYIEPONTLOWATORUEIEDETREDIUIL TIE EYONTRDL SERLETREMRSCATIE UEOUTIDL HENAMYE NE UEIBCIMTIPEZ HAIESITLRCRHONEY NTOUDNE UPERTYILESMSME HDRLOTYSNE LIEDIUIL HHKEANIPEFRLEN SCHOUDEFLRSESAHTOEPOSIUNORU HEPONTLOWATORUNEINCIMO HHKEXYIUETYIEUASWILERFEPOSIUNORUNEONEYODYEFRLENOUDHIEPOSIUNORU HEPONTLOWATORUNERTYILESITYRPNE LIEANA HHKE Z OH WHIEIEDE P CTOZIELIJIMTORUEN SCHOUDETY TEM UEPOLIMTHKELITALUEOUPICIUPIUTEN SCHINEFLRSETYIEPONTLOWATORUE UPE LIEFLIIEFLRSETYIECLRWHISERFE ATRMRLLIH TIPEN SCHINETY TEONEOUYILIUTEOUESMSMESITYRPNE</code></li>"
      ]
     },
     "metadata": {},
     "output_type": "display_data"
    },
    {
     "data": {
      "text/html": [
       "<li>[2000: 90 differences] <code>OUENT TONTOFNE UMEOUENT TONTOF HECYKNOFNETYIESITLRCRHONEY NTOUPNE HPRLOTYSEONE ES L3RJEFY OUESRUTIEF LHRESFSFESITYRMEDRLERWT OUOUPE ENIGAIUFIERDEL UMRSEN SCHINEDLRSE ECLRW WOHOTKEMONTLOWATORUEDRLEVYOFYEMOLIFTEN SCHOUPEONEMODDOFAHTETYONENIGAIUFIEF UEWIEANIMETRE CCLRBOS TIETYIEMONTLOWATORUEIEPETREPIUIL TIE EYONTRPL SERLETREFRSCATIE UEOUTIPL HENAFYE NE UEIBCIFTIMEJ HAIESITLRCRHONEY NTOUPNE UMERTYILESFSFE HPRLOTYSNE LIEPIUIL HHKEANIMEDRLEN SCHOUPEDLRSESAHTOEMOSIUNORU HEMONTLOWATORUNEINCIFO HHKEVYIUETYIEUASWILERDEMOSIUNORUNEONEYOPYEDRLENOUPHIEMOSIUNORU HEMONTLOWATORUNERTYILESITYRMNE LIEANA HHKE J OH WHIEIEPE M CTOJIELIZIFTORUEN SCHOUPETY TEF UEMOLIFTHKELITALUEOUMICIUMIUTEN SCHINEDLRSETYIEMONTLOWATORUE UME LIEDLIIEDLRSETYIECLRWHISERDE ATRFRLLIH TIMEN SCHINETY TEONEOUYILIUTEOUESFSFESITYRMNE</code></li>"
      ]
     },
     "metadata": {},
     "output_type": "display_data"
    },
    {
     "data": {
      "text/html": [
       "<li>[3000: 130 differences] <code>ORENT TONTOFNE RMEORENT TONTOF HECYKNOFNETYIESITLUCUHONEY NTORDNE HDULOTYSEONE ES LQUGEFY ORESURTIEF LHUESFSFESITYUMEPULEUWT ORORDE ENIXAIRFIEUPEL RMUSEN SCHINEPLUSE ECLUW WOHOTKEMONTLOWATOUREPULEVYOFYEMOLIFTEN SCHORDEONEMOPPOFAHTETYONENIXAIRFIEF REWIEANIMETUE CCLUBOS TIETYIEMONTLOWATOUREIEDETUEDIRIL TIE EYONTUDL SEULETUEFUSCATIE REORTIDL HENAFYE NE REIBCIFTIMEG HAIESITLUCUHONEY NTORDNE RMEUTYILESFSFE HDULOTYSNE LIEDIRIL HHKEANIMEPULEN SCHORDEPLUSESAHTOEMOSIRNOUR HEMONTLOWATOURNEINCIFO HHKEVYIRETYIERASWILEUPEMOSIRNOURNEONEYODYEPULENORDHIEMOSIRNOUR HEMONTLOWATOURNEUTYILESITYUMNE LIEANA HHKE G OH WHIEIEDE M CTOGIELIZIFTOUREN SCHORDETY TEF REMOLIFTHKELITALREORMICIRMIRTEN SCHINEPLUSETYIEMONTLOWATOURE RME LIEPLIIEPLUSETYIECLUWHISEUPE ATUFULLIH TIMEN SCHINETY TEONEORYILIRTEORESFSFESITYUMNE</code></li>"
      ]
     },
     "metadata": {},
     "output_type": "display_data"
    },
    {
     "data": {
      "text/html": [
       "<li>[4000: 166 differences] <code>ONERT TORTOMRE NDEONERT TORTOM HECYKROMRETYIESITLUCUHOREY RTONFRE HFULOTYSEORE ES LQUGEMY ONESUNTIEM LHUESMSMESITYUDEPULEUWT ONONFE ERIZAINMIEUPEL NDUSER SCHIREPLUSE ECLUW WOHOTKEDORTLOWATOUNEPULEVYOMYEDOLIMTER SCHONFEOREDOPPOMAHTETYORERIZAINMIEM NEWIEARIDETUE CCLUBOS TIETYIEDORTLOWATOUNEIEFETUEFINIL TIE EYORTUFL SEULETUEMUSCATIE NEONTIFL HERAMYE RE NEIBCIMTIDEG HAIESITLUCUHOREY RTONFRE NDEUTYILESMSME HFULOTYSRE LIEFINIL HHKEARIDEPULER SCHONFEPLUSESAHTOEDOSINROUN HEDORTLOWATOUNREIRCIMO HHKEVYINETYIENASWILEUPEDOSINROUNREOREYOFYEPULERONFHIEDOSINROUN HEDORTLOWATOUNREUTYILESITYUDRE LIEARA HHKE G OH WHIEIEFE D CTOGIELIXIMTOUNER SCHONFETY TEM NEDOLIMTHKELITALNEONDICINDINTER SCHIREPLUSETYIEDORTLOWATOUNE NDE LIEPLIIEPLUSETYIECLUWHISEUPE ATUMULLIH TIDER SCHIRETY TEOREONYILINTEONESMSMESITYUDRE</code></li>"
      ]
     },
     "metadata": {},
     "output_type": "display_data"
    },
    {
     "data": {
      "text/html": [
       "<li>[5000: 140 differences] <code>ONEST TOSTOFSE NDEONEST TOSTOF HECYMSOFSETYIERITLUCUHOSEY STONGSE HGULOTYREOSE ER LQUKEFY ONERUNTIEF LHUERFRFERITYUDEPULEUWT ONONGE ESIXAINFIEUPEL NDURES RCHISEPLURE ECLUW WOHOTMEDOSTLOWATOUNEPULEVYOFYEDOLIFTES RCHONGEOSEDOPPOFAHTETYOSESIXAINFIEF NEWIEASIDETUE CCLUBOR TIETYIEDOSTLOWATOUNEIEGETUEGINIL TIE EYOSTUGL REULETUEFURCATIE NEONTIGL HESAFYE SE NEIBCIFTIDEK HAIERITLUCUHOSEY STONGSE NDEUTYILERFRFE HGULOTYRSE LIEGINIL HHMEASIDEPULES RCHONGEPLURERAHTOEDORINSOUN HEDOSTLOWATOUNSEISCIFO HHMEVYINETYIENARWILEUPEDORINSOUNSEOSEYOGYEPULESONGHIEDORINSOUN HEDOSTLOWATOUNSEUTYILERITYUDSE LIEASA HHME K OH WHIEIEGE D CTOKIELIZIFTOUNES RCHONGETY TEF NEDOLIFTHMELITALNEONDICINDINTES RCHISEPLURETYIEDOSTLOWATOUNE NDE LIEPLIIEPLURETYIECLUWHIREUPE ATUFULLIH TIDES RCHISETY TEOSEONYILINTEONERFRFERITYUDSE</code></li>"
      ]
     },
     "metadata": {},
     "output_type": "display_data"
    }
   ],
   "source": [
    "decrypt(cipherText, iters = 10000)"
   ]
  },
  {
   "cell_type": "code",
   "execution_count": null,
   "metadata": {
    "collapsed": true
   },
   "outputs": [],
   "source": []
  },
  {
   "cell_type": "code",
   "execution_count": null,
   "metadata": {
    "collapsed": true,
    "deletable": true,
    "editable": true
   },
   "outputs": [],
   "source": []
  }
 ],
 "metadata": {
  "kernelspec": {
   "display_name": "Scala",
   "language": "scala",
   "name": "scala"
  },
  "language_info": {
   "codemirror_mode": "text/x-scala",
   "file_extension": ".scala",
   "mimetype": "text/x-scala",
   "name": "scala211",
   "nbconvert_exporter": "script",
   "pygments_lexer": "scala",
   "version": "2.11.8"
  }
 },
 "nbformat": 4,
 "nbformat_minor": 0
}
